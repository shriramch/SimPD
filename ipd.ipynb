{
 "cells": [
  {
   "cell_type": "code",
   "execution_count": 148,
   "metadata": {},
   "outputs": [],
   "source": [
    "import numpy as np\n",
    "import random"
   ]
  },
  {
   "cell_type": "code",
   "execution_count": 149,
   "metadata": {},
   "outputs": [],
   "source": [
    "# Generic class for any Player (next block we shall define inherited classes with specific strategies)\n",
    "class Player:\n",
    "    def __init__(self, strategy):\n",
    "        self.history = []\n",
    "        self.strategy = strategy\n",
    "\n",
    "    def play(self, opponent_history):\n",
    "        decision = self.strategy.move(opponent_history)\n",
    "        self.update_history(decision)\n",
    "        return decision\n",
    "\n",
    "    def update_history(self, own_move):\n",
    "        self.history.append(own_move)\n",
    "\n",
    "    def latest_move(self):\n",
    "        return self.history[-1]\n",
    "\n",
    "    def reset(self):\n",
    "        self.history = []\n",
    "\n",
    "    def switch_strategy(self, new_strategy):\n",
    "        self.strategy = new_strategy"
   ]
  },
  {
   "cell_type": "code",
   "execution_count": 150,
   "metadata": {},
   "outputs": [],
   "source": [
    "# C unless opponent's last move was D\n",
    "class TitForTat:\n",
    "    def move(self, own_history, opponent_history):\n",
    "        if not opponent_history or opponent_history[-1] == 'C':\n",
    "            move = 'C'\n",
    "        else:\n",
    "            move = 'D'\n",
    "\n",
    "        self.update_history(move)\n",
    "        return move\n",
    "    \n",
    "# Naively faithful player (always chooses C)\n",
    "class AlwaysCooperate:\n",
    "    def move(self, own_history, opponent_history):\n",
    "        move = 'C'\n",
    "        self.update_history(move)\n",
    "        return move\n",
    "\n",
    "# Always chooses D\n",
    "class AlwaysDefect:\n",
    "    def move(self, own_history, opponent_history):\n",
    "        move = 'D'\n",
    "        self.update_history(move)\n",
    "        return move\n",
    "\n",
    "# Alternating choices between C and D    \n",
    "class Alternating:\n",
    "    def move(self, own_history, opponent_history):\n",
    "        if not own_history or own_history[-1] == 'D':\n",
    "            move = 'C'\n",
    "        else:\n",
    "            move = 'D'\n",
    "        self.update_history(move)\n",
    "        return move\n",
    "    \n",
    "# class Grudger(Player):\n",
    "#     def __init__(self):\n",
    "#         super().__init__()\n",
    "#         self.has_been_betrayed = False\n",
    "\n",
    "#     def move(self, opponent_history):\n",
    "#         # If the Grudger has never encountered a defect or if the opponent's history is empty\n",
    "#         if not self.has_been_betrayed or not opponent_history:\n",
    "#             if 'D' in opponent_history:\n",
    "#                 self.has_been_betrayed = True\n",
    "#                 move = 'D'\n",
    "#             else:\n",
    "#                 move = 'C'\n",
    "#         else:\n",
    "#             # Defect indefinitely after encountering a betrayal\n",
    "#             move = 'D'\n",
    "#         self.update_history(move)\n",
    "#         return move"
   ]
  },
  {
   "cell_type": "code",
   "execution_count": 151,
   "metadata": {},
   "outputs": [],
   "source": [
    "# Special class of adaptive players who weighs the expected score for each decision (over opponent's history)\n",
    "class AdaptivePlayer:\n",
    "    def move(self, history):\n",
    "        # percentage of cooperative decisions in opponent's history\n",
    "        if len(history) != 0:\n",
    "            opponent_fidelity = history.count('C')/len(history)\n",
    "        else:\n",
    "            opponent_fidelity = 1 # assume the best in people\n",
    "        reward_C = opponent_fidelity*3 + (1-opponent_fidelity)*0\n",
    "        reward_D = opponent_fidelity*5 + (1-opponent_fidelity)*1\n",
    "\n",
    "        if reward_C > reward_D:\n",
    "            move = 'C'\n",
    "        else:\n",
    "            move = 'D'    \n",
    "        self.update_history(move)\n",
    "        return move"
   ]
  },
  {
   "cell_type": "code",
   "execution_count": 152,
   "metadata": {},
   "outputs": [],
   "source": [
    "# Define a typical Prisoner's Dilemma payoff matrix\n",
    "PAYOFF_MATRIX = {\n",
    "    'C': {'C': (3, 3), 'D': (0, 5)},\n",
    "    'D': {'C': (5, 0), 'D': (1, 1)}\n",
    "}"
   ]
  },
  {
   "cell_type": "code",
   "execution_count": 153,
   "metadata": {},
   "outputs": [],
   "source": [
    "# Function that lets player1 and player2 play N rounds\n",
    "def play_game(player1, player2, N): \n",
    "    for _ in range(N):\n",
    "        player1.play(player2.history)  # Player1 decides based on player2's history\n",
    "        player2.play(player1.history)  # Player2 decides based on player1's history\n",
    "    \n",
    "    return player1.history, player2.history"
   ]
  },
  {
   "cell_type": "code",
   "execution_count": 154,
   "metadata": {},
   "outputs": [],
   "source": [
    "# Helper function to compute scores given histories of two players\n",
    "def compute_scores(history1, history2, payoff_matrix):\n",
    "    scores1 = []\n",
    "    scores2 = []\n",
    "    \n",
    "    for move1, move2 in zip(history1, history2):\n",
    "        score1, score2 = payoff_matrix[move1][move2]\n",
    "        scores1.append(score1)\n",
    "        scores2.append(score2)\n",
    "\n",
    "    total_score1 = sum(scores1)\n",
    "    total_score2 = sum(scores2)\n",
    "\n",
    "    return scores1, scores2, total_score1, total_score2"
   ]
  },
  {
   "cell_type": "code",
   "execution_count": 155,
   "metadata": {},
   "outputs": [],
   "source": [
    "# Function that picks a (different) opponent at random on the lattice\n",
    "def pick_random_opponent(i, j, N):\n",
    "    while True:\n",
    "        opponent_i = random.randint(0, N-1)\n",
    "        opponent_j = random.randint(0, N-1)\n",
    "        if (opponent_i, opponent_j) != (i, j):  # Ensure the opponent is not the same player\n",
    "            return opponent_i, opponent_j\n",
    "        else:\n",
    "            opponent_i, opponent_j = pick_random_opponent(i, j, N)"
   ]
  },
  {
   "cell_type": "code",
   "execution_count": 156,
   "metadata": {},
   "outputs": [
    {
     "ename": "AttributeError",
     "evalue": "'Alternating' object has no attribute 'history'",
     "output_type": "error",
     "traceback": [
      "\u001b[1;31m---------------------------------------------------------------------------\u001b[0m",
      "\u001b[1;31mAttributeError\u001b[0m                            Traceback (most recent call last)",
      "\u001b[1;32me:\\ABM\\ipd.ipynb Cell 9\u001b[0m line \u001b[0;36m2\n\u001b[0;32m     <a href='vscode-notebook-cell:/e%3A/ABM/ipd.ipynb#X14sZmlsZQ%3D%3D?line=23'>24</a>\u001b[0m         player \u001b[39m=\u001b[39m lattice[i][j]\n\u001b[0;32m     <a href='vscode-notebook-cell:/e%3A/ABM/ipd.ipynb#X14sZmlsZQ%3D%3D?line=24'>25</a>\u001b[0m         opponent \u001b[39m=\u001b[39m lattice[opponent_i][opponent_j]\n\u001b[1;32m---> <a href='vscode-notebook-cell:/e%3A/ABM/ipd.ipynb#X14sZmlsZQ%3D%3D?line=25'>26</a>\u001b[0m         play_game(player, opponent, game_num)\n\u001b[0;32m     <a href='vscode-notebook-cell:/e%3A/ABM/ipd.ipynb#X14sZmlsZQ%3D%3D?line=28'>29</a>\u001b[0m \u001b[39m# After all games are played, record all history lists into array: data\u001b[39;00m\n\u001b[0;32m     <a href='vscode-notebook-cell:/e%3A/ABM/ipd.ipynb#X14sZmlsZQ%3D%3D?line=29'>30</a>\u001b[0m data \u001b[39m=\u001b[39m np\u001b[39m.\u001b[39mzeros((game_num\u001b[39m*\u001b[39m(N\u001b[39m*\u001b[39m\u001b[39m*\u001b[39m\u001b[39m2\u001b[39m\u001b[39m-\u001b[39m\u001b[39m1\u001b[39m), N, N), dtype\u001b[39m=\u001b[39m\u001b[39mint\u001b[39m)  \u001b[39m# Initialize data array\u001b[39;00m\n",
      "\u001b[1;32me:\\ABM\\ipd.ipynb Cell 9\u001b[0m line \u001b[0;36m4\n\u001b[0;32m      <a href='vscode-notebook-cell:/e%3A/ABM/ipd.ipynb#X14sZmlsZQ%3D%3D?line=1'>2</a>\u001b[0m \u001b[39mdef\u001b[39;00m \u001b[39mplay_game\u001b[39m(player1, player2, N): \n\u001b[0;32m      <a href='vscode-notebook-cell:/e%3A/ABM/ipd.ipynb#X14sZmlsZQ%3D%3D?line=2'>3</a>\u001b[0m     \u001b[39mfor\u001b[39;00m _ \u001b[39min\u001b[39;00m \u001b[39mrange\u001b[39m(N):\n\u001b[1;32m----> <a href='vscode-notebook-cell:/e%3A/ABM/ipd.ipynb#X14sZmlsZQ%3D%3D?line=3'>4</a>\u001b[0m         player1\u001b[39m.\u001b[39;49mplay(player2\u001b[39m.\u001b[39;49mhistory)  \u001b[39m# Player1 decides based on player2's history\u001b[39;00m\n\u001b[0;32m      <a href='vscode-notebook-cell:/e%3A/ABM/ipd.ipynb#X14sZmlsZQ%3D%3D?line=4'>5</a>\u001b[0m         player2\u001b[39m.\u001b[39mplay(player1\u001b[39m.\u001b[39mhistory)  \u001b[39m# Player2 decides based on player1's history\u001b[39;00m\n\u001b[0;32m      <a href='vscode-notebook-cell:/e%3A/ABM/ipd.ipynb#X14sZmlsZQ%3D%3D?line=6'>7</a>\u001b[0m     \u001b[39mreturn\u001b[39;00m player1\u001b[39m.\u001b[39mhistory, player2\u001b[39m.\u001b[39mhistory\n",
      "\u001b[1;32me:\\ABM\\ipd.ipynb Cell 9\u001b[0m line \u001b[0;36m8\n\u001b[0;32m      <a href='vscode-notebook-cell:/e%3A/ABM/ipd.ipynb#X14sZmlsZQ%3D%3D?line=6'>7</a>\u001b[0m \u001b[39mdef\u001b[39;00m \u001b[39mplay\u001b[39m(\u001b[39mself\u001b[39m, opponent_history):\n\u001b[1;32m----> <a href='vscode-notebook-cell:/e%3A/ABM/ipd.ipynb#X14sZmlsZQ%3D%3D?line=7'>8</a>\u001b[0m     decision \u001b[39m=\u001b[39m \u001b[39mself\u001b[39;49m\u001b[39m.\u001b[39;49mstrategy\u001b[39m.\u001b[39;49mmove(opponent_history)\n\u001b[0;32m      <a href='vscode-notebook-cell:/e%3A/ABM/ipd.ipynb#X14sZmlsZQ%3D%3D?line=8'>9</a>\u001b[0m     \u001b[39mself\u001b[39m\u001b[39m.\u001b[39mupdate_history(decision)\n\u001b[0;32m     <a href='vscode-notebook-cell:/e%3A/ABM/ipd.ipynb#X14sZmlsZQ%3D%3D?line=9'>10</a>\u001b[0m     \u001b[39mreturn\u001b[39;00m decision\n",
      "\u001b[1;32me:\\ABM\\ipd.ipynb Cell 9\u001b[0m line \u001b[0;36m2\n\u001b[0;32m     <a href='vscode-notebook-cell:/e%3A/ABM/ipd.ipynb#X14sZmlsZQ%3D%3D?line=27'>28</a>\u001b[0m \u001b[39mdef\u001b[39;00m \u001b[39mmove\u001b[39m(\u001b[39mself\u001b[39m, opponent_history):\n\u001b[1;32m---> <a href='vscode-notebook-cell:/e%3A/ABM/ipd.ipynb#X14sZmlsZQ%3D%3D?line=28'>29</a>\u001b[0m     \u001b[39mif\u001b[39;00m \u001b[39mnot\u001b[39;00m \u001b[39mself\u001b[39;49m\u001b[39m.\u001b[39;49mhistory \u001b[39mor\u001b[39;00m \u001b[39mself\u001b[39m\u001b[39m.\u001b[39mhistory[\u001b[39m-\u001b[39m\u001b[39m1\u001b[39m] \u001b[39m==\u001b[39m \u001b[39m'\u001b[39m\u001b[39mD\u001b[39m\u001b[39m'\u001b[39m:\n\u001b[0;32m     <a href='vscode-notebook-cell:/e%3A/ABM/ipd.ipynb#X14sZmlsZQ%3D%3D?line=29'>30</a>\u001b[0m         move \u001b[39m=\u001b[39m \u001b[39m'\u001b[39m\u001b[39mC\u001b[39m\u001b[39m'\u001b[39m\n\u001b[0;32m     <a href='vscode-notebook-cell:/e%3A/ABM/ipd.ipynb#X14sZmlsZQ%3D%3D?line=30'>31</a>\u001b[0m     \u001b[39melse\u001b[39;00m:\n",
      "\u001b[1;31mAttributeError\u001b[0m: 'Alternating' object has no attribute 'history'"
     ]
    }
   ],
   "source": [
    "# Instantiate players on a lattice\n",
    "N = 100 # Lattice size\n",
    "lattice = [[None for _ in range(N)] for _ in range(N)]\n",
    "\n",
    "# sprinkle in some special players (adaptive)\n",
    "m = 20\n",
    "special_agents = np.zeros(N * N)\n",
    "special_agents[:m] = 1\n",
    "np.random.shuffle(special_agents)\n",
    "special_agents = special_agents.reshape(N, N)\n",
    "\n",
    "for i in range(N):\n",
    "    for j in range(N):\n",
    "        if (special_agents[i][j] == 0):\n",
    "            lattice[i][j] = Player(Alternating())\n",
    "        else:\n",
    "            lattice[i][j] = Player(AdaptivePlayer())\n",
    "\n",
    "# Let all players each play with (N^2-1) others at random\n",
    "game_num = 2\n",
    "for i in range(N):\n",
    "    for j in range(N):\n",
    "        opponent_i, opponent_j = pick_random_opponent(i, j, N)\n",
    "        player = lattice[i][j]\n",
    "        opponent = lattice[opponent_i][opponent_j]\n",
    "        play_game(player, opponent, game_num)\n",
    "\n",
    "\n",
    "# After all games are played, record all history lists into array: data\n",
    "data = np.zeros((game_num*(N**2-1), N, N), dtype=int)  # Initialize data array\n",
    "for j in range(N):\n",
    "    for k in range(N):\n",
    "        player = lattice[j][k]\n",
    "        # print(len(player.history))\n",
    "        decisions = [1 if move == 'C' else -1 for move in player.history]\n",
    "        data[:len(decisions), j, k] = decisions"
   ]
  },
  {
   "cell_type": "code",
   "execution_count": null,
   "metadata": {},
   "outputs": [
    {
     "data": {
      "image/png": "[encoded data removed]",
      "text/plain": [
       "<Figure size 640x480 with 1 Axes>"
      ]
     },
     "metadata": {},
     "output_type": "display_data"
    }
   ],
   "source": [
    "# Block of code for visualization (export a .gif for now)\n",
    "\n",
    "import matplotlib.pyplot as plt\n",
    "from matplotlib.animation import FuncAnimation, PillowWriter\n",
    "\n",
    "\n",
    "sums_along_first_axis = np.sum(np.abs(data), axis=(1,2))\n",
    "last_nonzero_slice = np.max(np.nonzero(sums_along_first_axis))\n",
    "data_truncate = data[:last_nonzero_slice + 1]\n",
    "\n",
    "fig, ax = plt.subplots()\n",
    "plt.axis('off')\n",
    "\n",
    "# Setting up the colormap - you can choose your own colors\n",
    "cmap = plt.get_cmap(\"RdYlBu\")\n",
    "norm = plt.Normalize(-1, 1)\n",
    "\n",
    "def update(frame):\n",
    "    ax.clear()\n",
    "    ax.imshow(data_truncate[frame], cmap=cmap, norm=norm)\n",
    "    ax.set_title(f\"Time step: {frame}\")\n",
    "\n",
    "ani = FuncAnimation(fig, update, frames=data_truncate.shape[0], repeat=True)\n",
    "# plt.colorbar(plt.cm.ScalarMappable(norm=norm, cmap=cmap))\n",
    "\n",
    "# Save as GIF\n",
    "ani.save(\"animation.gif\", writer=PillowWriter(fps=1))\n",
    "\n",
    "# Show the animation\n",
    "plt.show()"
   ]
  }
 ],
 "metadata": {
  "kernelspec": {
   "display_name": "Python 3",
   "language": "python",
   "name": "python3"
  },
  "language_info": {
   "codemirror_mode": {
    "name": "ipython",
    "version": 3
   },
   "file_extension": ".py",
   "mimetype": "text/x-python",
   "name": "python",
   "nbconvert_exporter": "python",
   "pygments_lexer": "ipython3",
   "version": "3.8.10"
  }
 },
 "nbformat": 4,
 "nbformat_minor": 2
}
